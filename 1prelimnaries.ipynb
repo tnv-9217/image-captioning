{
 "cells": [
  {
   "cell_type": "code",
   "execution_count": 1,
   "id": "b0720be6",
   "metadata": {},
   "outputs": [
    {
     "name": "stdout",
     "output_type": "stream",
     "text": [
      "Requirement already satisfied: nltk in c:\\programdata\\anaconda3\\envs\\tanvi\\lib\\site-packages (3.8.1)\n",
      "Requirement already satisfied: click in c:\\programdata\\anaconda3\\envs\\tanvi\\lib\\site-packages (from nltk) (8.1.3)\n",
      "Requirement already satisfied: tqdm in c:\\programdata\\anaconda3\\envs\\tanvi\\lib\\site-packages (from nltk) (4.64.1)\n",
      "Requirement already satisfied: joblib in c:\\programdata\\anaconda3\\envs\\tanvi\\lib\\site-packages (from nltk) (1.2.0)\n",
      "Requirement already satisfied: regex>=2021.8.3 in c:\\programdata\\anaconda3\\envs\\tanvi\\lib\\site-packages (from nltk) (2022.10.31)\n",
      "Requirement already satisfied: colorama in c:\\programdata\\anaconda3\\envs\\tanvi\\lib\\site-packages (from click->nltk) (0.4.6)\n"
     ]
    },
    {
     "name": "stderr",
     "output_type": "stream",
     "text": [
      "[nltk_data] Downloading package punkt to\n",
      "[nltk_data]     C:\\Users\\USER\\AppData\\Roaming\\nltk_data...\n",
      "[nltk_data]   Package punkt is already up-to-date!\n"
     ]
    },
    {
     "name": "stdout",
     "output_type": "stream",
     "text": [
      "loading annotations into memory...\n",
      "Done (t=0.94s)\n",
      "creating index...\n",
      "index created!\n",
      "[0/591753] Tokenizing captions...\n",
      "[100000/591753] Tokenizing captions...\n",
      "[200000/591753] Tokenizing captions...\n",
      "[300000/591753] Tokenizing captions...\n",
      "[400000/591753] Tokenizing captions...\n",
      "[500000/591753] Tokenizing captions...\n",
      "loading annotations into memory...\n",
      "Done (t=0.80s)\n",
      "creating index...\n",
      "index created!\n",
      "Obtaining caption lengths...\n"
     ]
    },
    {
     "name": "stderr",
     "output_type": "stream",
     "text": [
      "100%|███████████████████████████████████████████████████████████████████████| 591753/591753 [00:57<00:00, 10254.32it/s]\n"
     ]
    }
   ],
   "source": [
    "import sys\n",
    "sys.path.append('/cocoapi/PythonAPI')\n",
    "from pycocotools.coco import COCO\n",
    "!pip install nltk\n",
    "import nltk\n",
    "nltk.download('punkt')\n",
    "from data_loader import get_loader\n",
    "from torchvision import transforms\n",
    "\n",
    "# Define a transform to pre-process the training images.\n",
    "transform_train = transforms.Compose([ \n",
    "    transforms.Resize(256),                          # smaller edge of image resized to 256\n",
    "    transforms.RandomCrop(224),                      # get 224x224 crop from random location\n",
    "    transforms.RandomHorizontalFlip(),               # horizontally flip image with probability=0.5\n",
    "    transforms.ToTensor(),                           # convert the PIL Image to a tensor\n",
    "    transforms.Normalize((0.485, 0.456, 0.406),      # normalize image for pre-trained model\n",
    "                         (0.229, 0.224, 0.225))])\n",
    "\n",
    "# Set the minimum word count threshold.\n",
    "vocab_threshold = 5\n",
    "\n",
    "# Specify the batch size.\n",
    "batch_size = 10\n",
    "\n",
    "# Obtain the data loader.\n",
    "data_loader = get_loader(transform=transform_train,\n",
    "                         mode='train',\n",
    "                         batch_size=batch_size,\n",
    "                         vocab_threshold=vocab_threshold,\n",
    "                         vocab_from_file=False)"
   ]
  },
  {
   "cell_type": "code",
   "execution_count": 2,
   "id": "d243a842",
   "metadata": {},
   "outputs": [],
   "source": [
    "sample_caption = 'A person doing a trick on a rail while riding a skateboard.'"
   ]
  },
  {
   "cell_type": "code",
   "execution_count": 3,
   "id": "080a8ed0",
   "metadata": {},
   "outputs": [
    {
     "name": "stdout",
     "output_type": "stream",
     "text": [
      "['a', 'person', 'doing', 'a', 'trick', 'on', 'a', 'rail', 'while', 'riding', 'a', 'skateboard', '.']\n"
     ]
    }
   ],
   "source": [
    "import nltk\n",
    "\n",
    "sample_tokens = nltk.tokenize.word_tokenize(str(sample_caption).lower())\n",
    "print(sample_tokens)"
   ]
  },
  {
   "cell_type": "code",
   "execution_count": 4,
   "id": "04352c17",
   "metadata": {},
   "outputs": [
    {
     "name": "stdout",
     "output_type": "stream",
     "text": [
      "Special start word: <start>\n",
      "[0]\n"
     ]
    }
   ],
   "source": [
    "sample_caption = []\n",
    "\n",
    "start_word = data_loader.dataset.vocab.start_word\n",
    "print('Special start word:', start_word)\n",
    "sample_caption.append(data_loader.dataset.vocab(start_word))\n",
    "print(sample_caption)"
   ]
  },
  {
   "cell_type": "code",
   "execution_count": 5,
   "id": "38a789e5",
   "metadata": {},
   "outputs": [
    {
     "name": "stdout",
     "output_type": "stream",
     "text": [
      "[0, 3, 145, 495, 3, 727, 49, 3, 681, 265, 106, 3, 147, 12]\n"
     ]
    }
   ],
   "source": [
    "sample_caption.extend([data_loader.dataset.vocab(token) for token in sample_tokens])\n",
    "print(sample_caption)\n"
   ]
  },
  {
   "cell_type": "code",
   "execution_count": 6,
   "id": "80514f60",
   "metadata": {},
   "outputs": [
    {
     "name": "stdout",
     "output_type": "stream",
     "text": [
      "Special end word: <end>\n",
      "[0, 3, 145, 495, 3, 727, 49, 3, 681, 265, 106, 3, 147, 12, 1]\n"
     ]
    }
   ],
   "source": [
    "end_word = data_loader.dataset.vocab.end_word\n",
    "print('Special end word:', end_word)\n",
    "\n",
    "sample_caption.append(data_loader.dataset.vocab(end_word))\n",
    "print(sample_caption)"
   ]
  },
  {
   "cell_type": "code",
   "execution_count": 7,
   "id": "7909a98b",
   "metadata": {},
   "outputs": [
    {
     "name": "stdout",
     "output_type": "stream",
     "text": [
      "tensor([  0,   3, 145, 495,   3, 727,  49,   3, 681, 265, 106,   3, 147,  12,\n",
      "          1])\n"
     ]
    }
   ],
   "source": [
    "import torch\n",
    "\n",
    "sample_caption = torch.Tensor(sample_caption).long()\n",
    "print(sample_caption)"
   ]
  },
  {
   "cell_type": "code",
   "execution_count": 8,
   "id": "a677673d",
   "metadata": {},
   "outputs": [
    {
     "data": {
      "text/plain": [
       "{'<start>': 0,\n",
       " '<end>': 1,\n",
       " '<unk>': 2,\n",
       " 'a': 3,\n",
       " 'bicycle': 4,\n",
       " 'replica': 5,\n",
       " 'with': 6,\n",
       " 'clock': 7,\n",
       " 'as': 8,\n",
       " 'the': 9}"
      ]
     },
     "execution_count": 8,
     "metadata": {},
     "output_type": "execute_result"
    }
   ],
   "source": [
    "# Preview the word2idx dictionary.\n",
    "dict(list(data_loader.dataset.vocab.word2idx.items())[:10])"
   ]
  },
  {
   "cell_type": "code",
   "execution_count": 9,
   "id": "9d8e7c94",
   "metadata": {},
   "outputs": [
    {
     "name": "stdout",
     "output_type": "stream",
     "text": [
      "Total number of tokens in vocabulary: 10321\n"
     ]
    }
   ],
   "source": [
    "# Print the total number of keys in the word2idx dictionary.\n",
    "print('Total number of tokens in vocabulary:', len(data_loader.dataset.vocab))"
   ]
  },
  {
   "cell_type": "code",
   "execution_count": 10,
   "id": "3b9e25ba",
   "metadata": {},
   "outputs": [
    {
     "name": "stdout",
     "output_type": "stream",
     "text": [
      "loading annotations into memory...\n",
      "Done (t=0.75s)\n",
      "creating index...\n",
      "index created!\n",
      "[0/591753] Tokenizing captions...\n",
      "[100000/591753] Tokenizing captions...\n",
      "[200000/591753] Tokenizing captions...\n",
      "[300000/591753] Tokenizing captions...\n",
      "[400000/591753] Tokenizing captions...\n",
      "[500000/591753] Tokenizing captions...\n",
      "loading annotations into memory...\n",
      "Done (t=0.81s)\n",
      "creating index...\n",
      "index created!\n",
      "Obtaining caption lengths...\n"
     ]
    },
    {
     "name": "stderr",
     "output_type": "stream",
     "text": [
      "100%|████████████████████████████████████████████████████████████████████████| 591753/591753 [00:59<00:00, 9990.85it/s]\n"
     ]
    }
   ],
   "source": [
    "# Modify the minimum word count threshold.\n",
    "vocab_threshold = 4\n",
    "\n",
    "# Obtain the data loader.\n",
    "data_loader = get_loader(transform=transform_train,\n",
    "                         mode='train',\n",
    "                         batch_size=batch_size,\n",
    "                         vocab_threshold=vocab_threshold,\n",
    "                         vocab_from_file=False)"
   ]
  },
  {
   "cell_type": "code",
   "execution_count": 11,
   "id": "c300fb0c",
   "metadata": {},
   "outputs": [
    {
     "name": "stdout",
     "output_type": "stream",
     "text": [
      "Total number of tokens in vocabulary: 11543\n"
     ]
    }
   ],
   "source": [
    "# Print the total number of keys in the word2idx dictionary.\n",
    "print('Total number of tokens in vocabulary:', len(data_loader.dataset.vocab))"
   ]
  },
  {
   "cell_type": "code",
   "execution_count": 12,
   "id": "302f53b9",
   "metadata": {},
   "outputs": [
    {
     "name": "stdout",
     "output_type": "stream",
     "text": [
      "Special unknown word: <unk>\n",
      "All unknown words are mapped to this integer: 2\n"
     ]
    }
   ],
   "source": [
    "unk_word = data_loader.dataset.vocab.unk_word\n",
    "print('Special unknown word:', unk_word)\n",
    "\n",
    "print('All unknown words are mapped to this integer:', data_loader.dataset.vocab(unk_word))"
   ]
  },
  {
   "cell_type": "code",
   "execution_count": 13,
   "id": "c7d2abec",
   "metadata": {},
   "outputs": [
    {
     "name": "stdout",
     "output_type": "stream",
     "text": [
      "2\n",
      "2\n"
     ]
    }
   ],
   "source": [
    "print(data_loader.dataset.vocab('jfkafejw'))\n",
    "print(data_loader.dataset.vocab('ieowoqjf'))"
   ]
  },
  {
   "cell_type": "code",
   "execution_count": 14,
   "id": "c1dadc40",
   "metadata": {},
   "outputs": [
    {
     "name": "stdout",
     "output_type": "stream",
     "text": [
      "Vocabulary successfully loaded from vocab.pkl file!\n",
      "loading annotations into memory...\n",
      "Done (t=0.75s)\n",
      "creating index...\n",
      "index created!\n",
      "Obtaining caption lengths...\n"
     ]
    },
    {
     "name": "stderr",
     "output_type": "stream",
     "text": [
      "100%|███████████████████████████████████████████████████████████████████████| 591753/591753 [00:57<00:00, 10294.63it/s]\n"
     ]
    }
   ],
   "source": [
    "# Obtain the data loader (from file). Note that it runs much faster than before!\n",
    "data_loader = get_loader(transform=transform_train,\n",
    "                         mode='train',\n",
    "                         batch_size=batch_size,\n",
    "                         vocab_from_file=True)"
   ]
  },
  {
   "cell_type": "code",
   "execution_count": 15,
   "id": "62ef6542",
   "metadata": {},
   "outputs": [
    {
     "name": "stdout",
     "output_type": "stream",
     "text": [
      "value: 10 --- count: 123316\n",
      "value: 11 --- count: 114543\n",
      "value:  9 --- count: 102606\n",
      "value: 12 --- count: 82271\n",
      "value: 13 --- count: 53723\n",
      "value: 14 --- count: 31924\n",
      "value:  8 --- count: 29696\n",
      "value: 15 --- count: 18511\n",
      "value: 16 --- count: 11022\n",
      "value: 17 --- count:  6928\n",
      "value: 18 --- count:  4382\n",
      "value: 19 --- count:  2890\n",
      "value:  7 --- count:  2297\n",
      "value: 20 --- count:  2047\n",
      "value: 21 --- count:  1443\n",
      "value: 22 --- count:   977\n",
      "value: 23 --- count:   747\n",
      "value: 24 --- count:   563\n",
      "value: 25 --- count:   390\n",
      "value: 26 --- count:   287\n",
      "value: 27 --- count:   212\n",
      "value: 28 --- count:   162\n",
      "value: 29 --- count:   124\n",
      "value: 30 --- count:    92\n",
      "value: 31 --- count:    80\n",
      "value: 32 --- count:    61\n",
      "value: 34 --- count:    51\n",
      "value: 33 --- count:    45\n",
      "value: 37 --- count:    43\n",
      "value: 35 --- count:    42\n",
      "value: 36 --- count:    32\n",
      "value: 38 --- count:    27\n",
      "value: 39 --- count:    25\n",
      "value: 43 --- count:    23\n",
      "value: 44 --- count:    21\n",
      "value: 40 --- count:    18\n",
      "value: 45 --- count:    16\n",
      "value: 46 --- count:    15\n",
      "value: 48 --- count:    15\n",
      "value: 47 --- count:    12\n",
      "value: 42 --- count:    12\n",
      "value: 49 --- count:    10\n",
      "value: 41 --- count:     9\n",
      "value: 51 --- count:     9\n",
      "value: 50 --- count:     8\n",
      "value: 52 --- count:     7\n",
      "value: 53 --- count:     5\n",
      "value:  6 --- count:     5\n",
      "value: 55 --- count:     3\n",
      "value: 54 --- count:     3\n",
      "value: 56 --- count:     2\n",
      "value: 57 --- count:     1\n"
     ]
    }
   ],
   "source": [
    "from collections import Counter\n",
    "\n",
    "# Tally the total number of training captions with each length.\n",
    "counter = Counter(data_loader.dataset.caption_lengths)\n",
    "lengths = sorted(counter.items(), key=lambda pair: pair[1], reverse=True)\n",
    "for value, count in lengths:\n",
    "    print('value: %2d --- count: %5d' % (value, count))"
   ]
  },
  {
   "cell_type": "code",
   "execution_count": 16,
   "id": "98b45974",
   "metadata": {},
   "outputs": [
    {
     "name": "stdout",
     "output_type": "stream",
     "text": [
      "sampled indices: [15782, 429033, 132129, 378617, 216521, 244855, 43147, 22409, 54615, 265085]\n",
      "images.shape: torch.Size([10, 3, 224, 224])\n",
      "captions.shape: torch.Size([10, 11])\n",
      "images: tensor([[[[-1.9980, -1.9809, -1.8610,  ..., -0.8849, -0.9705, -1.0219],\n",
      "          [-1.8782, -1.7240, -1.6898,  ..., -0.6623, -0.8507, -0.9534],\n",
      "          [-1.9124, -1.7412, -1.2274,  ..., -0.4911, -0.5938, -0.7308],\n",
      "          ...,\n",
      "          [-0.7479, -0.7822, -0.8335,  ..., -0.1657, -0.1143,  0.0056],\n",
      "          [-0.5424, -0.7822, -0.8164,  ..., -0.1486, -0.0629, -0.1657],\n",
      "          [-0.4397, -0.7137, -0.9020,  ...,  0.0056, -0.0287, -0.2684]],\n",
      "\n",
      "         [[-1.7906, -1.8081, -1.7906,  ..., -0.1275, -0.1450, -0.0574],\n",
      "          [-1.5980, -1.4755, -1.5455,  ...,  0.3102,  0.0476, -0.0574],\n",
      "          [-1.6681, -1.4930, -0.9678,  ...,  0.4678,  0.2227,  0.0126],\n",
      "          ...,\n",
      "          [-0.4776, -0.4951, -0.5301,  ...,  0.5028,  0.5378,  0.5378],\n",
      "          [-0.3550, -0.5651, -0.5476,  ...,  0.4153,  0.5728,  0.4678],\n",
      "          [-0.1800, -0.5126, -0.5826,  ...,  0.3627,  0.5378,  0.4153]],\n",
      "\n",
      "         [[-1.7173, -1.6999, -1.6127,  ..., -0.7238, -0.7064, -0.6367],\n",
      "          [-1.6999, -1.6127, -1.5779,  ..., -0.4450, -0.6890, -0.8110],\n",
      "          [-1.6824, -1.6127, -1.1596,  ..., -0.6018, -0.6890, -0.7064],\n",
      "          ...,\n",
      "          [-0.4798, -0.4973, -0.4101,  ...,  0.4439,  0.4962,  0.6008],\n",
      "          [-0.3230, -0.4973, -0.3753,  ...,  0.4265,  0.5485,  0.4439],\n",
      "          [-0.3230, -0.5321, -0.4798,  ...,  0.5485,  0.5659,  0.3742]]],\n",
      "\n",
      "\n",
      "        [[[ 0.3994,  0.3994,  0.3994,  ...,  0.4166,  0.3994,  0.4166],\n",
      "          [ 0.3823,  0.3994,  0.3994,  ...,  0.4166,  0.4337,  0.4166],\n",
      "          [ 0.3994,  0.4166,  0.3994,  ...,  0.4337,  0.4166,  0.4166],\n",
      "          ...,\n",
      "          [ 1.1700,  1.1358,  1.1872,  ...,  1.1015,  1.1187,  1.1187],\n",
      "          [ 1.1700,  1.1700,  1.1700,  ...,  1.1015,  1.1015,  1.1358],\n",
      "          [ 1.1529,  1.1529,  1.1700,  ...,  1.1187,  1.1015,  1.1358]],\n",
      "\n",
      "         [[ 0.8354,  0.8354,  0.8354,  ...,  0.8529,  0.8354,  0.8529],\n",
      "          [ 0.8179,  0.8354,  0.8354,  ...,  0.8529,  0.8704,  0.8529],\n",
      "          [ 0.8354,  0.8529,  0.8354,  ...,  0.8704,  0.8529,  0.8529],\n",
      "          ...,\n",
      "          [ 1.3081,  1.2906,  1.3431,  ...,  1.2556,  1.2731,  1.2731],\n",
      "          [ 1.3256,  1.3256,  1.3256,  ...,  1.2556,  1.2556,  1.2906],\n",
      "          [ 1.3081,  1.3081,  1.3256,  ...,  1.2731,  1.2556,  1.2906]],\n",
      "\n",
      "         [[ 1.3677,  1.3502,  1.3502,  ...,  1.3851,  1.3677,  1.3851],\n",
      "          [ 1.3502,  1.3502,  1.3502,  ...,  1.3851,  1.4025,  1.3677],\n",
      "          [ 1.3677,  1.3851,  1.3502,  ...,  1.4025,  1.3677,  1.3502],\n",
      "          ...,\n",
      "          [ 1.5245,  1.5071,  1.5594,  ...,  1.5071,  1.5245,  1.5245],\n",
      "          [ 1.5420,  1.5420,  1.5420,  ...,  1.5071,  1.5071,  1.5420],\n",
      "          [ 1.5245,  1.5245,  1.5420,  ...,  1.5245,  1.5071,  1.5420]]],\n",
      "\n",
      "\n",
      "        [[[-1.2788, -1.3302, -1.3473,  ...,  1.3927,  1.0502,  0.8447],\n",
      "          [-1.3815, -1.3644, -1.4158,  ...,  1.7352,  1.2899,  1.0159],\n",
      "          [-1.4329, -1.4672, -1.5014,  ...,  1.5982,  1.4269,  1.2728],\n",
      "          ...,\n",
      "          [-0.6623, -0.5424, -0.5596,  ..., -1.1075, -0.9705, -1.0562],\n",
      "          [-0.5253, -0.2342, -0.7479,  ..., -0.5767, -0.8678, -1.0219],\n",
      "          [-0.1657,  0.3652, -0.5938,  ..., -0.2684, -0.4226, -1.0562]],\n",
      "\n",
      "         [[-1.3529, -1.3354, -1.3529,  ..., -0.7227, -0.9328, -1.0203],\n",
      "          [-1.3179, -1.2829, -1.3179,  ..., -0.6352, -0.7752, -0.9153],\n",
      "          [-1.3179, -1.3354, -1.3529,  ..., -0.6001, -0.5826, -0.6702],\n",
      "          ...,\n",
      "          [-0.6877, -0.5476, -0.7402,  ..., -0.9503, -0.8978, -1.1604],\n",
      "          [-0.6176, -0.3200, -0.8627,  ..., -0.7752, -0.9678, -1.2129],\n",
      "          [-0.3375,  0.2402, -0.6527,  ..., -0.9678, -0.8978, -1.2654]],\n",
      "\n",
      "         [[-1.1944, -1.2119, -1.2119,  ..., -1.5604, -1.7173, -1.6127],\n",
      "          [-1.1247, -1.1421, -1.1944,  ..., -1.3164, -1.5256, -1.6302],\n",
      "          [-1.1944, -1.2119, -1.2641,  ..., -1.4384, -1.3861, -1.4210],\n",
      "          ...,\n",
      "          [-1.5779, -1.6650, -1.7173,  ..., -1.4384, -1.5081, -1.5604],\n",
      "          [-1.5953, -1.4210, -1.6650,  ..., -1.4384, -1.6302, -1.5779],\n",
      "          [-1.4559, -1.2990, -1.4559,  ..., -1.5256, -1.6476, -1.5779]]],\n",
      "\n",
      "\n",
      "        ...,\n",
      "\n",
      "\n",
      "        [[[ 1.8893,  1.9064,  1.8893,  ...,  0.1254,  0.4679,  0.5707],\n",
      "          [ 1.8722,  1.8893,  1.8893,  ...,  1.1358,  1.3927,  1.0502],\n",
      "          [ 1.9064,  1.9064,  1.9064,  ...,  0.9988,  1.1529,  0.9474],\n",
      "          ...,\n",
      "          [-1.6384, -1.2788, -1.0562,  ..., -1.9809, -1.9809, -1.9467],\n",
      "          [-1.5870, -1.4500, -1.2103,  ..., -2.1179, -2.1008, -2.1008],\n",
      "          [-1.6555, -1.4672, -1.2788,  ..., -2.0837, -2.0665, -2.0494]],\n",
      "\n",
      "         [[ 2.3235,  2.3410,  2.3235,  ..., -0.0399,  0.2052,  0.3627],\n",
      "          [ 2.3060,  2.3235,  2.3235,  ...,  1.3081,  1.4482,  1.2381],\n",
      "          [ 2.3410,  2.3410,  2.3410,  ...,  0.6954,  0.9755,  1.1155],\n",
      "          ...,\n",
      "          [-0.9153, -0.7052, -0.6877,  ..., -1.9482, -1.9832, -1.9482],\n",
      "          [-0.8277, -0.7577, -0.7577,  ..., -2.0007, -2.0007, -2.0182],\n",
      "          [-0.9328, -0.7402, -0.7752,  ..., -2.0007, -2.0007, -2.0182]],\n",
      "\n",
      "         [[ 2.4831,  2.5006,  2.4831,  ..., -0.0964,  0.1825,  0.2348],\n",
      "          [ 2.4657,  2.4831,  2.4831,  ...,  1.3677,  1.5420,  1.2805],\n",
      "          [ 2.4831,  2.4831,  2.4831,  ...,  0.4614,  0.9319,  1.1411],\n",
      "          ...,\n",
      "          [-0.4973, -0.4275, -0.4624,  ..., -1.7696, -1.7696, -1.7870],\n",
      "          [-0.3753, -0.4624, -0.4624,  ..., -1.7347, -1.7173, -1.7522],\n",
      "          [-0.4450, -0.3927, -0.4450,  ..., -1.7870, -1.7347, -1.7347]]],\n",
      "\n",
      "\n",
      "        [[[-1.4672, -1.4158, -1.3987,  ..., -1.1760, -1.1589, -1.1760],\n",
      "          [-1.3987, -1.3644, -1.3644,  ..., -1.1932, -1.1589, -1.1932],\n",
      "          [-1.4672, -1.4500, -1.4158,  ..., -1.1932, -1.1589, -1.1932],\n",
      "          ...,\n",
      "          [ 0.9988,  1.0844,  0.9817,  ...,  1.1872,  1.1529,  1.0844],\n",
      "          [ 0.9646,  0.9474,  0.9303,  ...,  1.1015,  1.0502,  0.9817],\n",
      "          [ 0.8447,  0.9303,  0.9132,  ...,  1.0331,  0.9817,  0.9132]],\n",
      "\n",
      "         [[-1.3179, -1.3004, -1.3004,  ..., -1.0903, -1.0728, -1.0903],\n",
      "          [-1.3004, -1.2654, -1.2654,  ..., -1.0903, -1.0903, -1.0903],\n",
      "          [-1.3529, -1.3004, -1.2654,  ..., -1.1253, -1.1078, -1.1253],\n",
      "          ...,\n",
      "          [ 1.2556,  1.3256,  1.2556,  ...,  0.7304,  0.6429,  0.5378],\n",
      "          [ 1.2381,  1.1856,  1.1856,  ...,  0.5903,  0.5203,  0.4503],\n",
      "          [ 1.1331,  1.2206,  1.2031,  ...,  0.5028,  0.4853,  0.4153]],\n",
      "\n",
      "         [[-1.0027, -0.9504, -0.9678,  ..., -0.7587, -0.7413, -0.7238],\n",
      "          [-0.9678, -0.9504, -0.9504,  ..., -0.7761, -0.7587, -0.7761],\n",
      "          [-1.0027, -0.9853, -0.9504,  ..., -0.8110, -0.7936, -0.8110],\n",
      "          ...,\n",
      "          [ 2.1171,  2.1868,  2.0648,  ..., -0.6715, -0.7587, -0.8284],\n",
      "          [ 2.0300,  2.0300,  1.9951,  ..., -0.8284, -0.9156, -0.9678],\n",
      "          [ 1.8905,  1.9951,  2.0300,  ..., -0.9330, -0.9678, -1.0027]]],\n",
      "\n",
      "\n",
      "        [[[ 1.5810,  1.5810,  1.5810,  ...,  1.8722,  1.8208,  1.7865],\n",
      "          [ 1.5810,  1.5639,  1.5639,  ...,  1.8550,  1.8208,  1.7694],\n",
      "          [ 1.5639,  1.5639,  1.5468,  ...,  1.8550,  1.8208,  1.7694],\n",
      "          ...,\n",
      "          [-1.8097, -1.8782, -1.9980,  ...,  1.0673,  1.0502,  1.0673],\n",
      "          [-1.4672, -1.4672, -1.5870,  ...,  1.0673,  1.0844,  1.0844],\n",
      "          [-1.4158, -1.3644, -1.3815,  ...,  1.0844,  1.1015,  1.1015]],\n",
      "\n",
      "         [[ 1.7808,  1.7808,  1.7808,  ...,  2.1485,  2.0959,  2.0784],\n",
      "          [ 1.7808,  1.7633,  1.7633,  ...,  2.1310,  2.1134,  2.0784],\n",
      "          [ 1.7633,  1.7633,  1.7458,  ...,  2.1485,  2.1134,  2.0784],\n",
      "          ...,\n",
      "          [-1.6506, -1.7381, -1.9132,  ...,  1.8333,  1.8333,  1.8333],\n",
      "          [-1.2829, -1.2479, -1.4755,  ...,  1.8508,  1.8683,  1.8683],\n",
      "          [-1.2304, -1.1954, -1.2129,  ...,  1.8683,  1.8859,  1.8859]],\n",
      "\n",
      "         [[ 1.7685,  1.7685,  1.7685,  ...,  2.1694,  2.1171,  2.0823],\n",
      "          [ 1.7685,  1.7511,  1.7685,  ...,  2.1520,  2.0997,  2.0648],\n",
      "          [ 1.7511,  1.7511,  1.7511,  ...,  2.1520,  2.0997,  2.0648],\n",
      "          ...,\n",
      "          [-1.2119, -1.3513, -1.5256,  ...,  2.4657,  2.4657,  2.4831],\n",
      "          [-0.7761, -0.8458, -0.9330,  ...,  2.5006,  2.5006,  2.4657],\n",
      "          [-0.6193, -0.6367, -0.6541,  ...,  2.4831,  2.5006,  2.4483]]]])\n",
      "captions: tensor([[   0,  659,  913,   40,   95,  240,    6,   59, 1180,   12,    1],\n",
      "        [   0,   62,   31, 2839,    3, 5518,  680,   42,  770,   12,    1],\n",
      "        [   0,    3,   61,  424,  712,  335,  956,   16,  231, 2557,    1],\n",
      "        [   0,    3,  386,   21,   36,   50,    3,  596,   49,   12,    1],\n",
      "        [   0,  245,  197,   16,   59, 3546,   40,    9,  248,   12,    1],\n",
      "        [   0,   35,   36, 2659,   50,    9,  735,   50,    9,  132,    1],\n",
      "        [   0,   58,  749, 1886, 1073,   98,   23,  576,  440,   12,    1],\n",
      "        [   0,    3,   20,  278,  219,    3,  619,   23, 2098,   12,    1],\n",
      "        [   0,    3,  379,  125, 1050,   87, 1021,   16,  466,   12,    1],\n",
      "        [   0,    3,  216,  221,  169,    3, 2923,  125,  735,   12,    1]])\n"
     ]
    }
   ],
   "source": [
    "import numpy as np\n",
    "import torch.utils.data as data\n",
    "\n",
    "# Randomly sample a caption length, and sample indices with that length.\n",
    "indices = data_loader.dataset.get_train_indices()\n",
    "print('sampled indices:', indices)\n",
    "\n",
    "# Create and assign a batch sampler to retrieve a batch with the sampled indices.\n",
    "new_sampler = data.sampler.SubsetRandomSampler(indices=indices)\n",
    "data_loader.batch_sampler.sampler = new_sampler\n",
    "    \n",
    "# Obtain the batch.\n",
    "images, captions = next(iter(data_loader))\n",
    "    \n",
    "print('images.shape:', images.shape)\n",
    "print('captions.shape:', captions.shape)\n",
    "\n",
    "# (Optional) Uncomment the lines of code below to print the pre-processed images and captions.\n",
    "print('images:', images)\n",
    "print('captions:', captions)"
   ]
  },
  {
   "cell_type": "code",
   "execution_count": 17,
   "id": "15ab2a87",
   "metadata": {},
   "outputs": [],
   "source": [
    "# Watch for any changes in model.py, and re-load it automatically.\n",
    "%load_ext autoreload\n",
    "%autoreload 2\n",
    "\n",
    "# Import EncoderCNN and DecoderRNN. \n",
    "from model import EncoderCNN, DecoderRNN"
   ]
  },
  {
   "cell_type": "code",
   "execution_count": 18,
   "id": "80bfb083",
   "metadata": {},
   "outputs": [
    {
     "data": {
      "text/plain": [
       "True"
      ]
     },
     "execution_count": 18,
     "metadata": {},
     "output_type": "execute_result"
    }
   ],
   "source": [
    "device = torch.device(\"cuda\") \n",
    "torch.cuda.is_available()"
   ]
  },
  {
   "cell_type": "code",
   "execution_count": 19,
   "id": "ea4e63cc",
   "metadata": {},
   "outputs": [
    {
     "name": "stderr",
     "output_type": "stream",
     "text": [
      "[autoreload of model failed: Traceback (most recent call last):\n",
      "  File \"C:\\ProgramData\\Anaconda3\\envs\\tanvi\\lib\\site-packages\\IPython\\extensions\\autoreload.py\", line 261, in check\n",
      "    superreload(m, reload, self.old_objects)\n",
      "  File \"C:\\ProgramData\\Anaconda3\\envs\\tanvi\\lib\\site-packages\\IPython\\extensions\\autoreload.py\", line 459, in superreload\n",
      "    module = reload(module)\n",
      "  File \"C:\\ProgramData\\Anaconda3\\envs\\tanvi\\lib\\importlib\\__init__.py\", line 169, in reload\n",
      "    _bootstrap._exec(spec, module)\n",
      "  File \"<frozen importlib._bootstrap>\", line 613, in _exec\n",
      "  File \"<frozen importlib._bootstrap_external>\", line 846, in exec_module\n",
      "  File \"<frozen importlib._bootstrap_external>\", line 983, in get_code\n",
      "  File \"<frozen importlib._bootstrap_external>\", line 913, in source_to_code\n",
      "  File \"<frozen importlib._bootstrap>\", line 228, in _call_with_frames_removed\n",
      "  File \"D:\\student\\tanvi\\model.py\", line 10\n",
      "    super(EncoderCNN, self).__init__()\n",
      "TabError: inconsistent use of tabs and spaces in indentation\n",
      "]\n",
      "Downloading: \"https://download.pytorch.org/models/resnet101-5d3b4d8f.pth\" to C:\\Users\\USER/.cache\\torch\\hub\\checkpoints\\resnet101-5d3b4d8f.pth\n"
     ]
    },
    {
     "data": {
      "application/vnd.jupyter.widget-view+json": {
       "model_id": "f52357add9234ea2a9605f41fed78327",
       "version_major": 2,
       "version_minor": 0
      },
      "text/plain": [
       "  0%|          | 0.00/170M [00:00<?, ?B/s]"
      ]
     },
     "metadata": {},
     "output_type": "display_data"
    },
    {
     "name": "stdout",
     "output_type": "stream",
     "text": [
      "type(features): <class 'torch.Tensor'>\n",
      "features.shape: torch.Size([10, 256])\n"
     ]
    }
   ],
   "source": [
    "# Specify the dimensionality of the image embedding.\n",
    "embed_size = 256\n",
    "\n",
    "#-#-#-# Do NOT modify the code below this line. #-#-#-#\n",
    "\n",
    "# Initialize the encoder. (Optional: Add additional arguments if necessary.)\n",
    "encoder = EncoderCNN(embed_size)\n",
    "\n",
    "# Move the encoder to GPU if CUDA is available.\n",
    "encoder.to(device)\n",
    "\n",
    "# Move last batch of images (from Step 2) to GPU if CUDA is available.   \n",
    "images = images.to(device)\n",
    "\n",
    "# Pass the images through the encoder.\n",
    "features = encoder(images)\n",
    "\n",
    "print('type(features):', type(features))\n",
    "print('features.shape:', features.shape)\n",
    "\n",
    "# Check that your encoder satisfies some requirements of the project! :D\n",
    "assert type(features)==torch.Tensor, \"Encoder output needs to be a PyTorch Tensor.\" \n",
    "assert (features.shape[0]==batch_size) & (features.shape[1]==embed_size), \"The shape of the encoder output is incorrect.\""
   ]
  },
  {
   "cell_type": "code",
   "execution_count": 20,
   "id": "95182f42",
   "metadata": {},
   "outputs": [
    {
     "name": "stdout",
     "output_type": "stream",
     "text": [
      "type(outputs): <class 'torch.Tensor'>\n",
      "outputs.shape: torch.Size([10, 11, 11543])\n"
     ]
    }
   ],
   "source": [
    "# Specify the number of features in the hidden state of the RNN decoder.\n",
    "hidden_size = 512\n",
    "\n",
    "#-#-#-# Do NOT modify the code below this line. #-#-#-#\n",
    "\n",
    "# Store the size of the vocabulary.\n",
    "vocab_size = len(data_loader.dataset.vocab)\n",
    "\n",
    "# Initialize the decoder.\n",
    "decoder = DecoderRNN(embed_size, hidden_size, vocab_size)\n",
    "\n",
    "# Move the decoder to GPU if CUDA is available.\n",
    "decoder.to(device)\n",
    "    \n",
    "# Move last batch of captions (from Step 1) to GPU if CUDA is available \n",
    "captions = captions.to(device)\n",
    "\n",
    "# Pass the encoder output and captions through the decoder.\n",
    "outputs = decoder(features, captions)\n",
    "\n",
    "print('type(outputs):', type(outputs))\n",
    "print('outputs.shape:', outputs.shape)\n",
    "\n",
    "# Check that your decoder satisfies some requirements of the project! :D\n",
    "assert type(outputs)==torch.Tensor, \"Decoder output needs to be a PyTorch Tensor.\"\n",
    "assert (outputs.shape[0]==batch_size) & (outputs.shape[1]==captions.shape[1]) & (outputs.shape[2]==vocab_size), \"The shape of the decoder output is incorrect.\" "
   ]
  },
  {
   "cell_type": "code",
   "execution_count": null,
   "id": "d87096f9",
   "metadata": {},
   "outputs": [],
   "source": []
  }
 ],
 "metadata": {
  "kernelspec": {
   "display_name": "Python 3 (ipykernel)",
   "language": "python",
   "name": "python3"
  },
  "language_info": {
   "codemirror_mode": {
    "name": "ipython",
    "version": 3
   },
   "file_extension": ".py",
   "mimetype": "text/x-python",
   "name": "python",
   "nbconvert_exporter": "python",
   "pygments_lexer": "ipython3",
   "version": "3.9.15"
  }
 },
 "nbformat": 4,
 "nbformat_minor": 5
}
